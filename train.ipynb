{
 "cells": [
  {
   "cell_type": "code",
   "execution_count": 1,
   "metadata": {},
   "outputs": [
    {
     "data": {
      "text/plain": [
       "True"
      ]
     },
     "execution_count": 1,
     "metadata": {},
     "output_type": "execute_result"
    }
   ],
   "source": [
    "from dotenv import load_dotenv\n",
    "\n",
    "load_dotenv(\".env\")"
   ]
  },
  {
   "cell_type": "code",
   "execution_count": 3,
   "metadata": {},
   "outputs": [
    {
     "name": "stdout",
     "output_type": "stream",
     "text": [
      "Getting movies 0 - 20 of 496\n",
      "Getting movies 20 - 40 of 496\n",
      "Getting movies 40 - 60 of 496\n",
      "Getting movies 60 - 80 of 496\n",
      "Getting movies 80 - 100 of 496\n",
      "Getting movies 100 - 120 of 496\n",
      "Getting movies 120 - 140 of 496\n",
      "Getting movies 140 - 160 of 496\n",
      "Getting movies 160 - 180 of 496\n",
      "Getting movies 180 - 200 of 496\n",
      "Getting movies 200 - 220 of 496\n",
      "Getting movies 220 - 240 of 496\n",
      "Getting movies 240 - 260 of 496\n",
      "Getting movies 260 - 280 of 496\n",
      "Getting movies 280 - 300 of 496\n",
      "Getting movies 300 - 320 of 496\n",
      "Getting movies 320 - 340 of 496\n",
      "Getting movies 340 - 360 of 496\n",
      "Getting movies 360 - 380 of 496\n",
      "Getting movies 380 - 400 of 496\n",
      "Getting movies 400 - 420 of 496\n",
      "Getting movies 420 - 440 of 496\n",
      "Getting movies 440 - 460 of 496\n",
      "Getting movies 460 - 480 of 496\n",
      "Getting movies 480 - 500 of 496\n"
     ]
    }
   ],
   "source": [
    "import requests\n",
    "import os \n",
    "\n",
    "URL = os.getenv(\"URL\") \n",
    "USER_ID = os.getenv(\"USER_ID\")\n",
    "API_KEY = os.getenv(\"API_KEY\")\n",
    "\n",
    "def get_amount() -> int: \n",
    "    \"\"\"\n",
    "    Gets the amount of Movie items in user access \n",
    "    \n",
    "    Returns integer amoutn \n",
    "    \"\"\"\n",
    "    res = requests.get(f'{URL}/emby/Users/{USER_ID}/Items?StartIndex=0&Limit=1&Recursive=true&IncludeItemTypes=Movie&api_key={API_KEY}&Filters=IsPlayed&Fields=Budget,Genres,Overview,People,Revenue,Studios,Taglines,ProviderIds')\n",
    "    res.raise_for_status()\n",
    "\n",
    "    return res.json().get(\"TotalRecordCount\")\n",
    "\n",
    "def get_chunk(start: int = 0, chunk: int = 20) -> list: \n",
    "    \"\"\"\n",
    "    Gets a chunk of movie information from Jellyfin\n",
    "    \n",
    "    Optional starting point and chunk size \n",
    "\n",
    "    Returns a List of dictionaries with movie info\n",
    "    \"\"\"\n",
    "    res = requests.get(f'{URL}/emby/Users/{USER_ID}/Items?StartIndex={start}&Limit={chunk}&Recursive=true&IncludeItemTypes=Movie&api_key={API_KEY}&Filters=IsPlayed&Fields=Budget,Genres,Overview,People,Revenue,Studios,Taglines,ProviderIds')\n",
    "    res.raise_for_status()\n",
    "\n",
    "    return res.json().get(\"Items\")\n",
    "\n",
    "all_movies = list() \n",
    "\n",
    "size = get_amount()\n",
    "start = 0 \n",
    "chunk = 20 \n",
    "\n",
    "while start < size: \n",
    "    print(f'Getting movies {start} - {start + chunk} of {size}')\n",
    "    all_movies.extend(get_chunk(start=start, chunk=chunk))\n",
    "    start += chunk "
   ]
  },
  {
   "cell_type": "code",
   "execution_count": 4,
   "metadata": {},
   "outputs": [],
   "source": [
    "# Columns to keep\n",
    "columns_to_keep = [\n",
    "    \"Name\",\n",
    "    \"PremiereDate\",\n",
    "    \"CriticRating\",\n",
    "    \"OfficialRating\",\n",
    "    \"Overview\",\n",
    "    \"Taglines\",\n",
    "    \"Genres\",\n",
    "    \"CommunityRating\",\n",
    "    \"RunTimeTicks\",\n",
    "    \"ProductionYear\",\n",
    "    \"People\",\n",
    "    \"Studios\",\n",
    "    \"GenreItems\",\n",
    "    \"UserData\",\n",
    "]\n",
    "\n",
    "# Function to filter a single movie dictionary\n",
    "def filter_movie(movie):\n",
    "    filtered = {key: value for key, value in movie.items() if key in columns_to_keep}\n",
    "\n",
    "    # Filter nested People\n",
    "    if \"People\" in filtered:\n",
    "        filtered[\"People\"] = [\n",
    "            {k: v for k, v in person.items() if k in [\"Name\", \"Id\", \"Role\", \"Type\"]}\n",
    "            for person in filtered[\"People\"]\n",
    "        ]\n",
    "\n",
    "    # Filter Studios (keep only 'Name')\n",
    "    if \"Studios\" in filtered:\n",
    "        filtered[\"Studios\"] = [{\"Name\": studio[\"Name\"]} for studio in filtered[\"Studios\"] if \"Name\" in studio]\n",
    "\n",
    "    # Filter GenreItems (keep only 'Name')\n",
    "    if \"GenreItems\" in filtered:\n",
    "        filtered[\"GenreItems\"] = [{\"Name\": genre[\"Name\"]} for genre in filtered[\"GenreItems\"] if \"Name\" in genre]\n",
    "\n",
    "    # Filter UserData (keep only 'IsFavorite')\n",
    "    if \"UserData\" in filtered:\n",
    "        filtered[\"IsFavorite\"] = filtered[\"UserData\"].get(\"IsFavorite\")\n",
    "        del filtered[\"UserData\"]\n",
    "\n",
    "    return filtered\n",
    "\n",
    "# Process all movies\n",
    "filtered_movies = [filter_movie(movie) for movie in all_movies]"
   ]
  }
 ],
 "metadata": {
  "kernelspec": {
   "display_name": "Python 3",
   "language": "python",
   "name": "python3"
  },
  "language_info": {
   "codemirror_mode": {
    "name": "ipython",
    "version": 3
   },
   "file_extension": ".py",
   "mimetype": "text/x-python",
   "name": "python",
   "nbconvert_exporter": "python",
   "pygments_lexer": "ipython3",
   "version": "3.9.20"
  },
  "orig_nbformat": 4
 },
 "nbformat": 4,
 "nbformat_minor": 2
}
